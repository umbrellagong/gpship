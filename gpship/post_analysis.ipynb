{
 "cells": [
  {
   "cell_type": "markdown",
   "id": "13fbd761",
   "metadata": {},
   "source": [
    "# Infor\n",
    "\n",
    "Plot the results in roll equation case"
   ]
  },
  {
   "cell_type": "code",
   "execution_count": 1,
   "id": "676f908e",
   "metadata": {},
   "outputs": [],
   "source": [
    "import numpy as np\n",
    "import matplotlib.pyplot as plt"
   ]
  },
  {
   "cell_type": "code",
   "execution_count": 2,
   "id": "e416fd7e",
   "metadata": {},
   "outputs": [],
   "source": [
    "plt.rcParams.update({'font.size': 16})"
   ]
  },
  {
   "cell_type": "markdown",
   "id": "2851e13a",
   "metadata": {},
   "source": [
    "# 0 useful functions "
   ]
  },
  {
   "cell_type": "code",
   "execution_count": 3,
   "id": "f3ca2d58",
   "metadata": {},
   "outputs": [],
   "source": [
    "def plot_results(lim_y):\n",
    "    \n",
    "    n_init = 8\n",
    "    plt.figure(figsize=(5,4))\n",
    "    x_range = np.arange(n_init, n_init + lh_results.shape[1])\n",
    "    # seq line\n",
    "    plt.plot(x_range, np.mean(seq_results, axis=0), label='seq')\n",
    "    plt.fill_between(x_range, np.mean(seq_results, axis=0), \n",
    "                     np.mean(seq_results, axis=0) + 1 * np.std(seq_results, axis=0),\n",
    "                     alpha=0.4)\n",
    "    # lh line\n",
    "    plt.plot(x_range, np.mean(lh_results, axis=0), label='lh')\n",
    "    plt.fill_between(x_range, np.mean(lh_results, axis=0), \n",
    "                     np.mean(lh_results, axis=0) + 1 * np.std(lh_results, axis=0),\n",
    "                     alpha=0.2)\n",
    "    # p^a_{temp}\n",
    "    plt.plot(x_range, np.ones_like(x_range) * [p_group_true] * (1.03), 'k--', label='3% error')\n",
    "    plt.plot(x_range, np.ones_like(x_range) * [p_group_true] * (0.97), 'k--')\n",
    "    # p_{temp}\n",
    "    plt.plot(x_range, np.ones_like(x_range) * [p_true], color='green')\n",
    "    plt.xlabel('num of samples')\n",
    "    plt.ylabel('exceeding prob')\n",
    "    plt.xticks([10,20,30,40,50,60])\n",
    "    plt.title('$r_s=$' + str(r_s))\n",
    "    plt.ylim(lim_y)\n",
    "    plt.tight_layout()\n",
    "    plt.show()"
   ]
  },
  {
   "cell_type": "code",
   "execution_count": 4,
   "id": "5a2fb675",
   "metadata": {},
   "outputs": [],
   "source": [
    "def compute_p_temp(r_s):\n",
    "    return np.where(abs(true.reshape(-1)) > r_s)[0].shape[0] / true.reshape(-1).shape[0]"
   ]
  },
  {
   "cell_type": "code",
   "execution_count": 5,
   "id": "654c5254",
   "metadata": {},
   "outputs": [],
   "source": [
    "def compute_p_a_temp(r_s, D_thr): # 还是一样的api界面啊\n",
    "    exceeding_num = np.zeros(len(true_groups))\n",
    "    for i, true_group in enumerate(true_groups):\n",
    "        exceeding_num[i] = np.argwhere(abs(true_group) > r_s).shape[0]\n",
    "        if scores[i] < (1 - D_thr):\n",
    "            exceeding_num[i] = 0\n",
    "    return np.sum(exceeding_num) / len(seeds) / 38400 # len(true[0])"
   ]
  },
  {
   "cell_type": "code",
   "execution_count": 6,
   "id": "3704cefb",
   "metadata": {},
   "outputs": [],
   "source": [
    "def compute_group_max():\n",
    "    group_max_results = np.zeros_like(scores)\n",
    "    for i, true_group in enumerate(true_groups):\n",
    "        group_max_results[i] = np.max(abs(true_group))\n",
    "    return group_max_results"
   ]
  },
  {
   "cell_type": "code",
   "execution_count": 7,
   "id": "fd843375",
   "metadata": {},
   "outputs": [],
   "source": [
    "def compute_p_a_group(r_s, D_thr):\n",
    "    return sum((scores > (1 - D_thr)) & (group_max_results > r_s)) / sum(scores > (1 - D_thr))"
   ]
  },
  {
   "cell_type": "markdown",
   "id": "c71e7e03",
   "metadata": {},
   "source": [
    "# 1. Invariance of temporal exceeding probability\n",
    "\n",
    "----Note that approximately 8GB memory is needed----"
   ]
  },
  {
   "cell_type": "markdown",
   "id": "16a46384",
   "metadata": {},
   "source": [
    "$P_{temp}$"
   ]
  },
  {
   "cell_type": "code",
   "execution_count": 8,
   "id": "9cb3eb73",
   "metadata": {},
   "outputs": [],
   "source": [
    "true = np.load('results/true.npy', allow_pickle=True)"
   ]
  },
  {
   "cell_type": "code",
   "execution_count": 9,
   "id": "d55e9820",
   "metadata": {},
   "outputs": [
    {
     "name": "stdout",
     "output_type": "stream",
     "text": [
      "0.023456748188405797\n"
     ]
    }
   ],
   "source": [
    "print(compute_p_temp(0.25))"
   ]
  },
  {
   "cell_type": "markdown",
   "id": "9185f599",
   "metadata": {},
   "source": [
    "$P^a_{temp}$"
   ]
  },
  {
   "cell_type": "code",
   "execution_count": 10,
   "id": "5d8a8aea",
   "metadata": {},
   "outputs": [],
   "source": [
    "# load the results and data \n",
    "true_groups = np.load('results/true_groups.npy', allow_pickle=True)\n",
    "scores = np.load('wavedata/scores.npy', allow_pickle=True)\n",
    "seeds = np.load('wavedata/seeds.npy', allow_pickle=True)"
   ]
  },
  {
   "cell_type": "code",
   "execution_count": 11,
   "id": "75ce0fa6",
   "metadata": {},
   "outputs": [
    {
     "name": "stdout",
     "output_type": "stream",
     "text": [
      "0.35 0.025660678097694494\n",
      "0.3 0.02564234557585009\n",
      "0.25 0.025542834004456613\n",
      "0.2 0.024667695283714076\n"
     ]
    }
   ],
   "source": [
    "r_s = 0.25\n",
    "for D_thr in [0.35, 0.3, 0.25, 0.2]:\n",
    "    print(str(D_thr), compute_p_a_temp(r_s, D_thr))"
   ]
  },
  {
   "cell_type": "markdown",
   "id": "f1dc0d46",
   "metadata": {},
   "source": [
    "$P^a_{group}$"
   ]
  },
  {
   "cell_type": "code",
   "execution_count": 12,
   "id": "1bf6bbd6",
   "metadata": {},
   "outputs": [],
   "source": [
    "group_max_results = compute_group_max()"
   ]
  },
  {
   "cell_type": "code",
   "execution_count": 13,
   "id": "f5f84aab",
   "metadata": {},
   "outputs": [
    {
     "name": "stdout",
     "output_type": "stream",
     "text": [
      "0.35 0.2632273806520289\n",
      "0.3 0.2781086545646345\n",
      "0.25 0.32788519994226756\n",
      "0.2 0.40502616596699065\n"
     ]
    }
   ],
   "source": [
    "# compute and print the results\n",
    "r_s = 0.25\n",
    "for D_thr in [0.35, 0.3, 0.25, 0.2]:\n",
    "    print(str(D_thr), compute_p_a_group(r_s, D_thr))"
   ]
  },
  {
   "cell_type": "markdown",
   "id": "bc4ec74f",
   "metadata": {},
   "source": [
    "# 2. Plot the results"
   ]
  },
  {
   "cell_type": "markdown",
   "id": "7da7c5b5",
   "metadata": {},
   "source": [
    "$r_s = 0.25$"
   ]
  },
  {
   "cell_type": "code",
   "execution_count": 14,
   "id": "1f132c19",
   "metadata": {},
   "outputs": [],
   "source": [
    "# raw seq results including the input of samples \n",
    "seq_results_ = np.load('results/seq_025.npy', allow_pickle=True)\n",
    "# seq exceeding prob \n",
    "seq_results = np.array([i[0] for i in seq_results_])\n",
    "# lh exceeding prob \n",
    "lh_results = np.load('results/lh_025.npy', allow_pickle=True)"
   ]
  },
  {
   "cell_type": "code",
   "execution_count": 15,
   "id": "82f1c062",
   "metadata": {},
   "outputs": [],
   "source": [
    "# the true results coming from part 1 in this notebook\n",
    "r_s = 0.25\n",
    "p_true = 0.0235\n",
    "p_group_true = 0.0254"
   ]
  },
  {
   "cell_type": "code",
   "execution_count": 16,
   "id": "1018cf0f",
   "metadata": {},
   "outputs": [
    {
     "data": {
      "image/png": "[encoded data removed]",
      "text/plain": [
       "<Figure size 360x288 with 1 Axes>"
      ]
     },
     "metadata": {
      "needs_background": "light"
     },
     "output_type": "display_data"
    }
   ],
   "source": [
    "plot_results((0.02,0.04))"
   ]
  },
  {
   "cell_type": "markdown",
   "id": "845f604f",
   "metadata": {},
   "source": [
    "$r_s = 0.30$"
   ]
  },
  {
   "cell_type": "code",
   "execution_count": 17,
   "id": "6eab48e3",
   "metadata": {},
   "outputs": [],
   "source": [
    "# raw seq results including the input of samples \n",
    "seq_results_ = np.load('results/seq_030.npy', allow_pickle=True)\n",
    "# seq exceeding prob \n",
    "seq_results = np.array([i[0] for i in seq_results_])\n",
    "# lh exceeding prob \n",
    "lh_results = np.load('results/lh_030.npy', allow_pickle=True)"
   ]
  },
  {
   "cell_type": "code",
   "execution_count": 18,
   "id": "fa75e5dd",
   "metadata": {},
   "outputs": [],
   "source": [
    "# the true results coming from part 1 in this notebook\n",
    "r_s = 0.3\n",
    "p_true = 0.00520\n",
    "p_group_true = 0.00646"
   ]
  },
  {
   "cell_type": "code",
   "execution_count": 19,
   "id": "e79629a4",
   "metadata": {},
   "outputs": [
    {
     "data": {
      "image/png": "[encoded data removed]",
      "text/plain": [
       "<Figure size 360x288 with 1 Axes>"
      ]
     },
     "metadata": {
      "needs_background": "light"
     },
     "output_type": "display_data"
    }
   ],
   "source": [
    "plot_results((0.004, 0.012))"
   ]
  }
 ],
 "metadata": {
  "kernelspec": {
   "display_name": "Python 3",
   "language": "python",
   "name": "python3"
  },
  "language_info": {
   "codemirror_mode": {
    "name": "ipython",
    "version": 3
   },
   "file_extension": ".py",
   "mimetype": "text/x-python",
   "name": "python",
   "nbconvert_exporter": "python",
   "pygments_lexer": "ipython3",
   "version": "3.7.6"
  }
 },
 "nbformat": 4,
 "nbformat_minor": 5
}
