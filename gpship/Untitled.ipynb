{
 "cells": [
  {
   "cell_type": "markdown",
   "id": "30d5e6e6",
   "metadata": {},
   "source": [
    "# 先看一下truncated Gaussian是什么样子的"
   ]
  },
  {
   "cell_type": "code",
   "execution_count": 1,
   "id": "a4401f23",
   "metadata": {},
   "outputs": [],
   "source": [
    "import numpy as np\n",
    "from scipy.stats import truncnorm\n",
    "from acquisitions import truncnorm_var, variance_h_, variance_h\n",
    "import time"
   ]
  },
  {
   "cell_type": "code",
   "execution_count": 4,
   "id": "0a3073ef",
   "metadata": {},
   "outputs": [],
   "source": [
    "left, right = np.ones(100000), np.ones(100000) * 2\n",
    "mean, std = np.ones(100000) * 0.3, np.ones(100000) * 0.5\n",
    "c = np.ones(100000) * 1.8"
   ]
  },
  {
   "cell_type": "code",
   "execution_count": 29,
   "id": "a343f131",
   "metadata": {},
   "outputs": [
    {
     "name": "stdout",
     "output_type": "stream",
     "text": [
      "0.023003578186035156\n"
     ]
    }
   ],
   "source": [
    "start = time.time()\n",
    "res1 = truncnorm_var(mean, std, left, right)\n",
    "end = time.time()\n",
    "print(end-start)"
   ]
  },
  {
   "cell_type": "code",
   "execution_count": 30,
   "id": "fc617456",
   "metadata": {},
   "outputs": [
    {
     "name": "stdout",
     "output_type": "stream",
     "text": [
      "15.290879011154175\n"
     ]
    }
   ],
   "source": [
    "start = time.time()\n",
    "res2 = truncnorm.var((left-mean)/std, (right-mean)/std, mean, std)\n",
    "end = time.time()\n",
    "print(end-start)"
   ]
  },
  {
   "cell_type": "code",
   "execution_count": 13,
   "id": "4f8c51dd",
   "metadata": {},
   "outputs": [
    {
     "name": "stdout",
     "output_type": "stream",
     "text": [
      "0.05407238006591797\n"
     ]
    }
   ],
   "source": [
    "start = time.time()\n",
    "res1 = variance_h(mean, std, c)\n",
    "end = time.time()\n",
    "print(end-start)"
   ]
  },
  {
   "cell_type": "code",
   "execution_count": 14,
   "id": "e9a5ec49",
   "metadata": {},
   "outputs": [
    {
     "name": "stdout",
     "output_type": "stream",
     "text": [
      "33.30590033531189\n"
     ]
    }
   ],
   "source": [
    "start = time.time()\n",
    "res2 = variance_h_(mean, std, c)\n",
    "end = time.time()\n",
    "print(end-start)"
   ]
  },
  {
   "cell_type": "code",
   "execution_count": 16,
   "id": "77a5795f",
   "metadata": {},
   "outputs": [
    {
     "data": {
      "text/plain": [
       "2.220446049250313e-16"
      ]
     },
     "execution_count": 16,
     "metadata": {},
     "output_type": "execute_result"
    }
   ],
   "source": [
    "max(abs(res1 - res2))"
   ]
  },
  {
   "cell_type": "code",
   "execution_count": null,
   "id": "0c23539a",
   "metadata": {},
   "outputs": [],
   "source": []
  }
 ],
 "metadata": {
  "kernelspec": {
   "display_name": "Python 3",
   "language": "python",
   "name": "python3"
  },
  "language_info": {
   "codemirror_mode": {
    "name": "ipython",
    "version": 3
   },
   "file_extension": ".py",
   "mimetype": "text/x-python",
   "name": "python",
   "nbconvert_exporter": "python",
   "pygments_lexer": "ipython3",
   "version": "3.9.13"
  }
 },
 "nbformat": 4,
 "nbformat_minor": 5
}
